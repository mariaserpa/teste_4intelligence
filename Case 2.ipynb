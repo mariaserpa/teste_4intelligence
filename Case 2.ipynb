{
 "cells": [
  {
   "cell_type": "markdown",
   "metadata": {},
   "source": [
    "# Case 2"
   ]
  },
  {
   "cell_type": "markdown",
   "metadata": {},
   "source": [
    "## Importando as bibliotecas"
   ]
  },
  {
   "cell_type": "code",
   "execution_count": 1,
   "metadata": {},
   "outputs": [],
   "source": [
    "import pandas as pd\n",
    "import numpy as np\n",
    "import matplotlib.pyplot as plt\n",
    "import seaborn as sns; \n",
    "sns.set()\n",
    "import chardet"
   ]
  },
  {
   "cell_type": "markdown",
   "metadata": {},
   "source": [
    "#### Descobrindo qual é o enconding do dataset 'data_comexstat.csv'"
   ]
  },
  {
   "cell_type": "code",
   "execution_count": 2,
   "metadata": {},
   "outputs": [
    {
     "name": "stdout",
     "output_type": "stream",
     "text": [
      "ISO-8859-1\n"
     ]
    }
   ],
   "source": [
    "#descobrindo qual é o enconding do dataset data_comexstat.csv\n",
    "\n",
    "\n",
    "\n",
    "with open('data_comexstat.csv', 'rb') as f:\n",
    "    result = chardet.detect(f.read())\n",
    "\n",
    "print(result['encoding'])\n",
    "# pd.read_csv('data_comexstat.csv', encoding=result['encoding'])"
   ]
  },
  {
   "cell_type": "markdown",
   "metadata": {},
   "source": [
    "## Leitura da base e análise"
   ]
  },
  {
   "cell_type": "code",
   "execution_count": 3,
   "metadata": {
    "scrolled": false
   },
   "outputs": [],
   "source": [
    "comexstat = pd.read_csv('data_comexstat.csv', index_col=0, parse_dates=True, encoding=\"latin_1\")"
   ]
  },
  {
   "cell_type": "code",
   "execution_count": 4,
   "metadata": {
    "scrolled": true
   },
   "outputs": [
    {
     "name": "stdout",
     "output_type": "stream",
     "text": [
      "<class 'pandas.core.frame.DataFrame'>\n",
      "DatetimeIndex: 117965 entries, 1997-01-01 to 2019-12-01\n",
      "Data columns (total 7 columns):\n",
      " #   Column   Non-Null Count   Dtype  \n",
      "---  ------   --------------   -----  \n",
      " 0   product  117965 non-null  object \n",
      " 1   state    117965 non-null  object \n",
      " 2   country  117965 non-null  object \n",
      " 3   type     117965 non-null  object \n",
      " 4   route    117965 non-null  object \n",
      " 5   tons     117965 non-null  float64\n",
      " 6   usd      117965 non-null  float64\n",
      "dtypes: float64(2), object(5)\n",
      "memory usage: 7.2+ MB\n"
     ]
    }
   ],
   "source": [
    "comexstat.info()"
   ]
  },
  {
   "cell_type": "code",
   "execution_count": 5,
   "metadata": {},
   "outputs": [
    {
     "data": {
      "text/plain": [
       "array(['corn', 'soybean_meal', 'soybean_oil', 'soybeans', 'sugar',\n",
       "       'wheat'], dtype=object)"
      ]
     },
     "execution_count": 5,
     "metadata": {},
     "output_type": "execute_result"
    }
   ],
   "source": [
    "comexstat['product'].unique()"
   ]
  },
  {
   "cell_type": "code",
   "execution_count": 6,
   "metadata": {},
   "outputs": [
    {
     "data": {
      "text/plain": [
       "array(['Import', 'Export'], dtype=object)"
      ]
     },
     "execution_count": 6,
     "metadata": {},
     "output_type": "execute_result"
    }
   ],
   "source": [
    "comexstat['type'].unique()"
   ]
  },
  {
   "cell_type": "markdown",
   "metadata": {},
   "source": [
    "## Criando novas bases"
   ]
  },
  {
   "cell_type": "code",
   "execution_count": 7,
   "metadata": {},
   "outputs": [],
   "source": [
    "onlyexport = comexstat[comexstat['type'] == 'Export']"
   ]
  },
  {
   "cell_type": "code",
   "execution_count": 8,
   "metadata": {},
   "outputs": [
    {
     "name": "stderr",
     "output_type": "stream",
     "text": [
      "/Users/izaserpa/anaconda3/lib/python3.7/site-packages/ipykernel_launcher.py:1: SettingWithCopyWarning: \n",
      "A value is trying to be set on a copy of a slice from a DataFrame.\n",
      "Try using .loc[row_indexer,col_indexer] = value instead\n",
      "\n",
      "See the caveats in the documentation: https://pandas.pydata.org/pandas-docs/stable/user_guide/indexing.html#returning-a-view-versus-a-copy\n",
      "  \"\"\"Entry point for launching an IPython kernel.\n"
     ]
    }
   ],
   "source": [
    "onlyexport['year'] = onlyexport.index.year"
   ]
  },
  {
   "cell_type": "code",
   "execution_count": 9,
   "metadata": {},
   "outputs": [
    {
     "data": {
      "text/html": [
       "<div>\n",
       "<style scoped>\n",
       "    .dataframe tbody tr th:only-of-type {\n",
       "        vertical-align: middle;\n",
       "    }\n",
       "\n",
       "    .dataframe tbody tr th {\n",
       "        vertical-align: top;\n",
       "    }\n",
       "\n",
       "    .dataframe thead th {\n",
       "        text-align: right;\n",
       "    }\n",
       "</style>\n",
       "<table border=\"1\" class=\"dataframe\">\n",
       "  <thead>\n",
       "    <tr style=\"text-align: right;\">\n",
       "      <th></th>\n",
       "      <th>product</th>\n",
       "      <th>state</th>\n",
       "      <th>country</th>\n",
       "      <th>type</th>\n",
       "      <th>route</th>\n",
       "      <th>tons</th>\n",
       "      <th>usd</th>\n",
       "      <th>year</th>\n",
       "    </tr>\n",
       "    <tr>\n",
       "      <th>date</th>\n",
       "      <th></th>\n",
       "      <th></th>\n",
       "      <th></th>\n",
       "      <th></th>\n",
       "      <th></th>\n",
       "      <th></th>\n",
       "      <th></th>\n",
       "      <th></th>\n",
       "    </tr>\n",
       "  </thead>\n",
       "  <tbody>\n",
       "    <tr>\n",
       "      <th>1997-01-01</th>\n",
       "      <td>corn</td>\n",
       "      <td>GO</td>\n",
       "      <td>Bolivia</td>\n",
       "      <td>Export</td>\n",
       "      <td>Ground</td>\n",
       "      <td>0.200</td>\n",
       "      <td>180.0</td>\n",
       "      <td>1997</td>\n",
       "    </tr>\n",
       "    <tr>\n",
       "      <th>1997-01-01</th>\n",
       "      <td>corn</td>\n",
       "      <td>GO</td>\n",
       "      <td>United States</td>\n",
       "      <td>Export</td>\n",
       "      <td>Sea</td>\n",
       "      <td>3.488</td>\n",
       "      <td>5688.0</td>\n",
       "      <td>1997</td>\n",
       "    </tr>\n",
       "    <tr>\n",
       "      <th>1997-01-01</th>\n",
       "      <td>corn</td>\n",
       "      <td>MS</td>\n",
       "      <td>Paraguay</td>\n",
       "      <td>Export</td>\n",
       "      <td>Ground</td>\n",
       "      <td>40.000</td>\n",
       "      <td>38700.0</td>\n",
       "      <td>1997</td>\n",
       "    </tr>\n",
       "    <tr>\n",
       "      <th>1997-01-01</th>\n",
       "      <td>corn</td>\n",
       "      <td>PR</td>\n",
       "      <td>Netherlands</td>\n",
       "      <td>Export</td>\n",
       "      <td>Sea</td>\n",
       "      <td>170000.000</td>\n",
       "      <td>20000000.0</td>\n",
       "      <td>1997</td>\n",
       "    </tr>\n",
       "    <tr>\n",
       "      <th>1997-01-01</th>\n",
       "      <td>corn</td>\n",
       "      <td>PR</td>\n",
       "      <td>Paraguay</td>\n",
       "      <td>Export</td>\n",
       "      <td>Ground</td>\n",
       "      <td>258.300</td>\n",
       "      <td>386733.0</td>\n",
       "      <td>1997</td>\n",
       "    </tr>\n",
       "    <tr>\n",
       "      <th>...</th>\n",
       "      <td>...</td>\n",
       "      <td>...</td>\n",
       "      <td>...</td>\n",
       "      <td>...</td>\n",
       "      <td>...</td>\n",
       "      <td>...</td>\n",
       "      <td>...</td>\n",
       "      <td>...</td>\n",
       "    </tr>\n",
       "    <tr>\n",
       "      <th>2019-12-01</th>\n",
       "      <td>wheat</td>\n",
       "      <td>PR</td>\n",
       "      <td>United States</td>\n",
       "      <td>Export</td>\n",
       "      <td>Sea</td>\n",
       "      <td>0.400</td>\n",
       "      <td>400.0</td>\n",
       "      <td>2019</td>\n",
       "    </tr>\n",
       "    <tr>\n",
       "      <th>2019-12-01</th>\n",
       "      <td>wheat</td>\n",
       "      <td>RS</td>\n",
       "      <td>Vietnam</td>\n",
       "      <td>Export</td>\n",
       "      <td>Sea</td>\n",
       "      <td>36698.000</td>\n",
       "      <td>6963002.0</td>\n",
       "      <td>2019</td>\n",
       "    </tr>\n",
       "    <tr>\n",
       "      <th>2019-12-01</th>\n",
       "      <td>wheat</td>\n",
       "      <td>SP</td>\n",
       "      <td>Ireland</td>\n",
       "      <td>Export</td>\n",
       "      <td>Sea</td>\n",
       "      <td>0.500</td>\n",
       "      <td>477.0</td>\n",
       "      <td>2019</td>\n",
       "    </tr>\n",
       "    <tr>\n",
       "      <th>2019-12-01</th>\n",
       "      <td>wheat</td>\n",
       "      <td>SP</td>\n",
       "      <td>Liberia</td>\n",
       "      <td>Export</td>\n",
       "      <td>Other</td>\n",
       "      <td>0.025</td>\n",
       "      <td>50.0</td>\n",
       "      <td>2019</td>\n",
       "    </tr>\n",
       "    <tr>\n",
       "      <th>2019-12-01</th>\n",
       "      <td>wheat</td>\n",
       "      <td>SP</td>\n",
       "      <td>Marshall Islands</td>\n",
       "      <td>Export</td>\n",
       "      <td>Other</td>\n",
       "      <td>0.010</td>\n",
       "      <td>85.0</td>\n",
       "      <td>2019</td>\n",
       "    </tr>\n",
       "  </tbody>\n",
       "</table>\n",
       "<p>105861 rows × 8 columns</p>\n",
       "</div>"
      ],
      "text/plain": [
       "           product state           country    type   route        tons  \\\n",
       "date                                                                     \n",
       "1997-01-01    corn    GO           Bolivia  Export  Ground       0.200   \n",
       "1997-01-01    corn    GO     United States  Export     Sea       3.488   \n",
       "1997-01-01    corn    MS          Paraguay  Export  Ground      40.000   \n",
       "1997-01-01    corn    PR       Netherlands  Export     Sea  170000.000   \n",
       "1997-01-01    corn    PR          Paraguay  Export  Ground     258.300   \n",
       "...            ...   ...               ...     ...     ...         ...   \n",
       "2019-12-01   wheat    PR     United States  Export     Sea       0.400   \n",
       "2019-12-01   wheat    RS           Vietnam  Export     Sea   36698.000   \n",
       "2019-12-01   wheat    SP           Ireland  Export     Sea       0.500   \n",
       "2019-12-01   wheat    SP           Liberia  Export   Other       0.025   \n",
       "2019-12-01   wheat    SP  Marshall Islands  Export   Other       0.010   \n",
       "\n",
       "                   usd  year  \n",
       "date                          \n",
       "1997-01-01       180.0  1997  \n",
       "1997-01-01      5688.0  1997  \n",
       "1997-01-01     38700.0  1997  \n",
       "1997-01-01  20000000.0  1997  \n",
       "1997-01-01    386733.0  1997  \n",
       "...                ...   ...  \n",
       "2019-12-01       400.0  2019  \n",
       "2019-12-01   6963002.0  2019  \n",
       "2019-12-01       477.0  2019  \n",
       "2019-12-01        50.0  2019  \n",
       "2019-12-01        85.0  2019  \n",
       "\n",
       "[105861 rows x 8 columns]"
      ]
     },
     "execution_count": 9,
     "metadata": {},
     "output_type": "execute_result"
    }
   ],
   "source": [
    "onlyexport"
   ]
  },
  {
   "cell_type": "code",
   "execution_count": 10,
   "metadata": {},
   "outputs": [],
   "source": [
    "soybeans = onlyexport[onlyexport['product'] == 'soybeans']\n",
    "soybean_oil = onlyexport[onlyexport['product'] == 'soybean_oil']\n",
    "soybean_meal = onlyexport[onlyexport['product'] == 'soybean_meal']"
   ]
  },
  {
   "cell_type": "code",
   "execution_count": 11,
   "metadata": {},
   "outputs": [],
   "source": [
    "soybeans_bymonth = soybeans.groupby('date')['tons'].agg(pd.Series.sum).to_frame()\n",
    "soybean_oil_bymonth = soybean_oil.groupby('date')['tons'].agg(pd.Series.sum).to_frame()\n",
    "soybean_meal_bymonth = soybean_meal.groupby('date')['tons'].agg(pd.Series.sum).to_frame()"
   ]
  },
  {
   "cell_type": "markdown",
   "metadata": {},
   "source": [
    "# The evolution of total monthly and total annual exports from Brazil (all states and to everywhere) of ‘soybeans’, ‘soybean oil’ and ‘soybean meal’"
   ]
  },
  {
   "cell_type": "code",
   "execution_count": 12,
   "metadata": {},
   "outputs": [
    {
     "data": {
      "image/png": "[encoded data removed]",
      "text/plain": [
       "<Figure size 1080x1080 with 3 Axes>"
      ]
     },
     "metadata": {
      "needs_background": "light"
     },
     "output_type": "display_data"
    }
   ],
   "source": [
    "fig = plt.figure(figsize=(15.0, 15.0))\n",
    "\n",
    "plt.subplot(3,1,1)\n",
    "plt.title('Exportation for Soybeans by month')\n",
    "plt.ylabel('Tons')\n",
    "plt.plot(soybeans_bymonth, color='green')\n",
    "\n",
    "plt.subplot(3,1,2)\n",
    "plt.title('Exportation for Soybean Oil by month')\n",
    "plt.ylabel('Tons')\n",
    "plt.plot(soybean_oil_bymonth, color='red')\n",
    "\n",
    "plt.subplot(3,1,3)\n",
    "plt.title('Exportation for Soybean Meal by month')\n",
    "plt.ylabel('Tons')\n",
    "plt.plot(soybean_meal_bymonth, color='blue')\n",
    "\n",
    "fig.tight_layout()\n",
    "plt.show()"
   ]
  },
  {
   "cell_type": "code",
   "execution_count": 13,
   "metadata": {},
   "outputs": [
    {
     "data": {
      "image/png": "[encoded data removed]",
      "text/plain": [
       "<Figure size 1080x1080 with 3 Axes>"
      ]
     },
     "metadata": {
      "needs_background": "light"
     },
     "output_type": "display_data"
    }
   ],
   "source": [
    "fig = plt.figure(figsize=(15.0, 15.0))\n",
    "plt.ylim(0, 1800)\n",
    "\n",
    "plt.subplot(3,1,1)\n",
    "sns.countplot(x=\"year\", data=soybeans[['tons','year']], palette=\"Greys\")\n",
    "plt.title('Exportation for Soybeans by year')\n",
    "\n",
    "plt.subplot(3,1,2)\n",
    "sns.countplot(x=\"year\", data=soybean_oil[['tons','year']], palette=\"Oranges\")\n",
    "plt.title('Exportation for Soybean Oil by year')\n",
    "\n",
    "plt.subplot(3,1,3)\n",
    "sns.countplot(x=\"year\", data=soybean_meal[['tons','year']], palette=\"Blues\")\n",
    "plt.title('Exportation for Soybean Meal by year')\n",
    "\n",
    "fig.tight_layout()\n",
    "plt.show()"
   ]
  },
  {
   "cell_type": "markdown",
   "metadata": {},
   "source": [
    "# The 3 most important products exported by Brazil in the last 5 years"
   ]
  },
  {
   "cell_type": "markdown",
   "metadata": {},
   "source": [
    "* Considerando o valor acumulado"
   ]
  },
  {
   "cell_type": "code",
   "execution_count": 14,
   "metadata": {},
   "outputs": [
    {
     "data": {
      "text/html": [
       "<div>\n",
       "<style scoped>\n",
       "    .dataframe tbody tr th:only-of-type {\n",
       "        vertical-align: middle;\n",
       "    }\n",
       "\n",
       "    .dataframe tbody tr th {\n",
       "        vertical-align: top;\n",
       "    }\n",
       "\n",
       "    .dataframe thead th {\n",
       "        text-align: right;\n",
       "    }\n",
       "</style>\n",
       "<table border=\"1\" class=\"dataframe\">\n",
       "  <thead>\n",
       "    <tr style=\"text-align: right;\">\n",
       "      <th></th>\n",
       "      <th>usd</th>\n",
       "    </tr>\n",
       "    <tr>\n",
       "      <th>product</th>\n",
       "      <th></th>\n",
       "    </tr>\n",
       "  </thead>\n",
       "  <tbody>\n",
       "    <tr>\n",
       "      <th>soybeans</th>\n",
       "      <td>1.233255e+11</td>\n",
       "    </tr>\n",
       "    <tr>\n",
       "      <th>sugar</th>\n",
       "      <td>4.093849e+10</td>\n",
       "    </tr>\n",
       "    <tr>\n",
       "      <th>soybean_meal</th>\n",
       "      <td>2.840772e+10</td>\n",
       "    </tr>\n",
       "  </tbody>\n",
       "</table>\n",
       "</div>"
      ],
      "text/plain": [
       "                       usd\n",
       "product                   \n",
       "soybeans      1.233255e+11\n",
       "sugar         4.093849e+10\n",
       "soybean_meal  2.840772e+10"
      ]
     },
     "execution_count": 14,
     "metadata": {},
     "output_type": "execute_result"
    }
   ],
   "source": [
    "lastfiveyears = onlyexport.copy()\n",
    "lastfiveyears = lastfiveyears.loc[lastfiveyears['year'] >= 2015]\n",
    "lastfiveyears.groupby('product')['usd'].agg(pd.Series.sum).to_frame().sort_values('usd', ascending = False)[:3]"
   ]
  },
  {
   "cell_type": "code",
   "execution_count": 15,
   "metadata": {},
   "outputs": [
    {
     "data": {
      "image/png": "[encoded data removed]",
      "text/plain": [
       "<Figure size 1080x360 with 1 Axes>"
      ]
     },
     "metadata": {
      "needs_background": "light"
     },
     "output_type": "display_data"
    }
   ],
   "source": [
    "fig = plt.figure(figsize=(15.0, 5.0))\n",
    "\n",
    "ordem2 = lastfiveyears.groupby('product')['usd'].agg(pd.Series.sum).to_frame().sort_values('usd', ascending = True).reset_index()\n",
    "sns.barplot(x='product', y='usd', data=ordem2, ci = None, palette=\"Greys\", order=ordem2['product'])\n",
    "plt.title('Products exported in the last five years');"
   ]
  },
  {
   "cell_type": "markdown",
   "metadata": {},
   "source": [
    "\n",
    "# The main routes through which Brazil have been exporting ‘corn’ in the last few years. "
   ]
  },
  {
   "cell_type": "markdown",
   "metadata": {},
   "source": [
    "* Considering the last 5 years."
   ]
  },
  {
   "cell_type": "code",
   "execution_count": 16,
   "metadata": {},
   "outputs": [
    {
     "data": {
      "text/html": [
       "<div>\n",
       "<style scoped>\n",
       "    .dataframe tbody tr th:only-of-type {\n",
       "        vertical-align: middle;\n",
       "    }\n",
       "\n",
       "    .dataframe tbody tr th {\n",
       "        vertical-align: top;\n",
       "    }\n",
       "\n",
       "    .dataframe thead th {\n",
       "        text-align: right;\n",
       "    }\n",
       "</style>\n",
       "<table border=\"1\" class=\"dataframe\">\n",
       "  <thead>\n",
       "    <tr style=\"text-align: right;\">\n",
       "      <th></th>\n",
       "      <th>tons</th>\n",
       "    </tr>\n",
       "    <tr>\n",
       "      <th>route</th>\n",
       "      <th></th>\n",
       "    </tr>\n",
       "  </thead>\n",
       "  <tbody>\n",
       "    <tr>\n",
       "      <th>Sea</th>\n",
       "      <td>1.383810e+08</td>\n",
       "    </tr>\n",
       "    <tr>\n",
       "      <th>River</th>\n",
       "      <td>5.869627e+06</td>\n",
       "    </tr>\n",
       "    <tr>\n",
       "      <th>Other</th>\n",
       "      <td>2.660552e+05</td>\n",
       "    </tr>\n",
       "    <tr>\n",
       "      <th>Ground</th>\n",
       "      <td>7.250953e+04</td>\n",
       "    </tr>\n",
       "    <tr>\n",
       "      <th>Air</th>\n",
       "      <td>1.015261e+04</td>\n",
       "    </tr>\n",
       "  </tbody>\n",
       "</table>\n",
       "</div>"
      ],
      "text/plain": [
       "                tons\n",
       "route               \n",
       "Sea     1.383810e+08\n",
       "River   5.869627e+06\n",
       "Other   2.660552e+05\n",
       "Ground  7.250953e+04\n",
       "Air     1.015261e+04"
      ]
     },
     "execution_count": 16,
     "metadata": {},
     "output_type": "execute_result"
    }
   ],
   "source": [
    "lastfiveyears[lastfiveyears['product'] == 'corn'].groupby('route')['tons'].agg(pd.Series.sum).to_frame().sort_values('tons', ascending = False)"
   ]
  },
  {
   "cell_type": "code",
   "execution_count": 17,
   "metadata": {},
   "outputs": [
    {
     "data": {
      "image/png": "[encoded data removed]",
      "text/plain": [
       "<Figure size 1080x360 with 1 Axes>"
      ]
     },
     "metadata": {
      "needs_background": "light"
     },
     "output_type": "display_data"
    }
   ],
   "source": [
    "fig = plt.figure(figsize=(15.0, 5.0))\n",
    "\n",
    "ordem3 = lastfiveyears[lastfiveyears['product'] == 'corn'].groupby('route')['tons'].agg(pd.Series.sum).to_frame().sort_values('tons', ascending = True).reset_index()\n",
    "sns.barplot(x='route', y='tons', data=ordem3, ci = None, palette=\"Greys\", order=ordem3['route'])\n",
    "plt.title('The main routes of corn exportation in the last five years');"
   ]
  },
  {
   "cell_type": "markdown",
   "metadata": {},
   "source": [
    "A rota mais importante é por via marítima."
   ]
  },
  {
   "cell_type": "markdown",
   "metadata": {},
   "source": [
    "# Are there differences in the relative importance of routes depending on the product?"
   ]
  },
  {
   "cell_type": "markdown",
   "metadata": {},
   "source": [
    "* Considering the last 5 years."
   ]
  },
  {
   "cell_type": "code",
   "execution_count": 18,
   "metadata": {},
   "outputs": [
    {
     "name": "stdout",
     "output_type": "stream",
     "text": [
      "Important routes for Soybean Meal\n"
     ]
    },
    {
     "data": {
      "text/html": [
       "<div>\n",
       "<style scoped>\n",
       "    .dataframe tbody tr th:only-of-type {\n",
       "        vertical-align: middle;\n",
       "    }\n",
       "\n",
       "    .dataframe tbody tr th {\n",
       "        vertical-align: top;\n",
       "    }\n",
       "\n",
       "    .dataframe thead th {\n",
       "        text-align: right;\n",
       "    }\n",
       "</style>\n",
       "<table border=\"1\" class=\"dataframe\">\n",
       "  <thead>\n",
       "    <tr style=\"text-align: right;\">\n",
       "      <th></th>\n",
       "      <th>tons</th>\n",
       "    </tr>\n",
       "    <tr>\n",
       "      <th>route</th>\n",
       "      <th></th>\n",
       "    </tr>\n",
       "  </thead>\n",
       "  <tbody>\n",
       "    <tr>\n",
       "      <th>Sea</th>\n",
       "      <td>7.652543e+07</td>\n",
       "    </tr>\n",
       "    <tr>\n",
       "      <th>Other</th>\n",
       "      <td>9.149716e+04</td>\n",
       "    </tr>\n",
       "    <tr>\n",
       "      <th>Air</th>\n",
       "      <td>2.202439e+04</td>\n",
       "    </tr>\n",
       "    <tr>\n",
       "      <th>Ground</th>\n",
       "      <td>8.336698e+03</td>\n",
       "    </tr>\n",
       "    <tr>\n",
       "      <th>River</th>\n",
       "      <td>1.974000e+02</td>\n",
       "    </tr>\n",
       "  </tbody>\n",
       "</table>\n",
       "</div>"
      ],
      "text/plain": [
       "                tons\n",
       "route               \n",
       "Sea     7.652543e+07\n",
       "Other   9.149716e+04\n",
       "Air     2.202439e+04\n",
       "Ground  8.336698e+03\n",
       "River   1.974000e+02"
      ]
     },
     "execution_count": 18,
     "metadata": {},
     "output_type": "execute_result"
    }
   ],
   "source": [
    "print('Important routes for Soybean Meal')\n",
    "lastfiveyears[lastfiveyears['product'] == 'soybean_meal'].groupby('route')['tons'].agg(pd.Series.sum).to_frame().sort_values('tons', ascending = False)"
   ]
  },
  {
   "cell_type": "code",
   "execution_count": 19,
   "metadata": {},
   "outputs": [
    {
     "name": "stdout",
     "output_type": "stream",
     "text": [
      "Important routes for Soybean Oil\n"
     ]
    },
    {
     "data": {
      "text/html": [
       "<div>\n",
       "<style scoped>\n",
       "    .dataframe tbody tr th:only-of-type {\n",
       "        vertical-align: middle;\n",
       "    }\n",
       "\n",
       "    .dataframe tbody tr th {\n",
       "        vertical-align: top;\n",
       "    }\n",
       "\n",
       "    .dataframe thead th {\n",
       "        text-align: right;\n",
       "    }\n",
       "</style>\n",
       "<table border=\"1\" class=\"dataframe\">\n",
       "  <thead>\n",
       "    <tr style=\"text-align: right;\">\n",
       "      <th></th>\n",
       "      <th>tons</th>\n",
       "    </tr>\n",
       "    <tr>\n",
       "      <th>route</th>\n",
       "      <th></th>\n",
       "    </tr>\n",
       "  </thead>\n",
       "  <tbody>\n",
       "    <tr>\n",
       "      <th>Sea</th>\n",
       "      <td>6553971.761</td>\n",
       "    </tr>\n",
       "    <tr>\n",
       "      <th>Ground</th>\n",
       "      <td>129905.861</td>\n",
       "    </tr>\n",
       "    <tr>\n",
       "      <th>Other</th>\n",
       "      <td>24137.484</td>\n",
       "    </tr>\n",
       "    <tr>\n",
       "      <th>River</th>\n",
       "      <td>3409.907</td>\n",
       "    </tr>\n",
       "    <tr>\n",
       "      <th>Air</th>\n",
       "      <td>2.589</td>\n",
       "    </tr>\n",
       "  </tbody>\n",
       "</table>\n",
       "</div>"
      ],
      "text/plain": [
       "               tons\n",
       "route              \n",
       "Sea     6553971.761\n",
       "Ground   129905.861\n",
       "Other     24137.484\n",
       "River      3409.907\n",
       "Air           2.589"
      ]
     },
     "execution_count": 19,
     "metadata": {},
     "output_type": "execute_result"
    }
   ],
   "source": [
    "print('Important routes for Soybean Oil')\n",
    "lastfiveyears[lastfiveyears['product'] == 'soybean_oil'].groupby('route')['tons'].agg(pd.Series.sum).to_frame().sort_values('tons', ascending = False)"
   ]
  },
  {
   "cell_type": "code",
   "execution_count": 20,
   "metadata": {
    "scrolled": true
   },
   "outputs": [
    {
     "name": "stdout",
     "output_type": "stream",
     "text": [
      "Important routes for Soybeans\n"
     ]
    },
    {
     "data": {
      "text/html": [
       "<div>\n",
       "<style scoped>\n",
       "    .dataframe tbody tr th:only-of-type {\n",
       "        vertical-align: middle;\n",
       "    }\n",
       "\n",
       "    .dataframe tbody tr th {\n",
       "        vertical-align: top;\n",
       "    }\n",
       "\n",
       "    .dataframe thead th {\n",
       "        text-align: right;\n",
       "    }\n",
       "</style>\n",
       "<table border=\"1\" class=\"dataframe\">\n",
       "  <thead>\n",
       "    <tr style=\"text-align: right;\">\n",
       "      <th></th>\n",
       "      <th>tons</th>\n",
       "    </tr>\n",
       "    <tr>\n",
       "      <th>route</th>\n",
       "      <th></th>\n",
       "    </tr>\n",
       "  </thead>\n",
       "  <tbody>\n",
       "    <tr>\n",
       "      <th>Sea</th>\n",
       "      <td>3.161480e+08</td>\n",
       "    </tr>\n",
       "    <tr>\n",
       "      <th>River</th>\n",
       "      <td>8.566090e+06</td>\n",
       "    </tr>\n",
       "    <tr>\n",
       "      <th>Other</th>\n",
       "      <td>1.519021e+06</td>\n",
       "    </tr>\n",
       "    <tr>\n",
       "      <th>Ground</th>\n",
       "      <td>9.834406e+04</td>\n",
       "    </tr>\n",
       "    <tr>\n",
       "      <th>Air</th>\n",
       "      <td>5.389800e+01</td>\n",
       "    </tr>\n",
       "  </tbody>\n",
       "</table>\n",
       "</div>"
      ],
      "text/plain": [
       "                tons\n",
       "route               \n",
       "Sea     3.161480e+08\n",
       "River   8.566090e+06\n",
       "Other   1.519021e+06\n",
       "Ground  9.834406e+04\n",
       "Air     5.389800e+01"
      ]
     },
     "execution_count": 20,
     "metadata": {},
     "output_type": "execute_result"
    }
   ],
   "source": [
    "print('Important routes for Soybeans')\n",
    "lastfiveyears[lastfiveyears['product'] == 'soybeans'].groupby('route')['tons'].agg(pd.Series.sum).to_frame().sort_values('tons', ascending = False)"
   ]
  },
  {
   "cell_type": "code",
   "execution_count": 21,
   "metadata": {},
   "outputs": [
    {
     "name": "stdout",
     "output_type": "stream",
     "text": [
      "Important routes for Sugar\n"
     ]
    },
    {
     "data": {
      "text/html": [
       "<div>\n",
       "<style scoped>\n",
       "    .dataframe tbody tr th:only-of-type {\n",
       "        vertical-align: middle;\n",
       "    }\n",
       "\n",
       "    .dataframe tbody tr th {\n",
       "        vertical-align: top;\n",
       "    }\n",
       "\n",
       "    .dataframe thead th {\n",
       "        text-align: right;\n",
       "    }\n",
       "</style>\n",
       "<table border=\"1\" class=\"dataframe\">\n",
       "  <thead>\n",
       "    <tr style=\"text-align: right;\">\n",
       "      <th></th>\n",
       "      <th>tons</th>\n",
       "    </tr>\n",
       "    <tr>\n",
       "      <th>route</th>\n",
       "      <th></th>\n",
       "    </tr>\n",
       "  </thead>\n",
       "  <tbody>\n",
       "    <tr>\n",
       "      <th>Sea</th>\n",
       "      <td>1.193094e+08</td>\n",
       "    </tr>\n",
       "    <tr>\n",
       "      <th>Ground</th>\n",
       "      <td>6.296318e+05</td>\n",
       "    </tr>\n",
       "    <tr>\n",
       "      <th>Other</th>\n",
       "      <td>4.784887e+04</td>\n",
       "    </tr>\n",
       "    <tr>\n",
       "      <th>River</th>\n",
       "      <td>4.678631e+04</td>\n",
       "    </tr>\n",
       "    <tr>\n",
       "      <th>Air</th>\n",
       "      <td>3.017900e+01</td>\n",
       "    </tr>\n",
       "  </tbody>\n",
       "</table>\n",
       "</div>"
      ],
      "text/plain": [
       "                tons\n",
       "route               \n",
       "Sea     1.193094e+08\n",
       "Ground  6.296318e+05\n",
       "Other   4.784887e+04\n",
       "River   4.678631e+04\n",
       "Air     3.017900e+01"
      ]
     },
     "execution_count": 21,
     "metadata": {},
     "output_type": "execute_result"
    }
   ],
   "source": [
    "print('Important routes for Sugar')\n",
    "lastfiveyears[lastfiveyears['product'] == 'sugar'].groupby('route')['tons'].agg(pd.Series.sum).to_frame().sort_values('tons', ascending = False)"
   ]
  },
  {
   "cell_type": "code",
   "execution_count": 22,
   "metadata": {},
   "outputs": [
    {
     "name": "stdout",
     "output_type": "stream",
     "text": [
      "Important routes for Wheat\n"
     ]
    },
    {
     "data": {
      "text/html": [
       "<div>\n",
       "<style scoped>\n",
       "    .dataframe tbody tr th:only-of-type {\n",
       "        vertical-align: middle;\n",
       "    }\n",
       "\n",
       "    .dataframe tbody tr th {\n",
       "        vertical-align: top;\n",
       "    }\n",
       "\n",
       "    .dataframe thead th {\n",
       "        text-align: right;\n",
       "    }\n",
       "</style>\n",
       "<table border=\"1\" class=\"dataframe\">\n",
       "  <thead>\n",
       "    <tr style=\"text-align: right;\">\n",
       "      <th></th>\n",
       "      <th>tons</th>\n",
       "    </tr>\n",
       "    <tr>\n",
       "      <th>route</th>\n",
       "      <th></th>\n",
       "    </tr>\n",
       "  </thead>\n",
       "  <tbody>\n",
       "    <tr>\n",
       "      <th>Sea</th>\n",
       "      <td>3884332.581</td>\n",
       "    </tr>\n",
       "    <tr>\n",
       "      <th>Ground</th>\n",
       "      <td>1491.142</td>\n",
       "    </tr>\n",
       "    <tr>\n",
       "      <th>Other</th>\n",
       "      <td>11.482</td>\n",
       "    </tr>\n",
       "    <tr>\n",
       "      <th>Air</th>\n",
       "      <td>1.059</td>\n",
       "    </tr>\n",
       "  </tbody>\n",
       "</table>\n",
       "</div>"
      ],
      "text/plain": [
       "               tons\n",
       "route              \n",
       "Sea     3884332.581\n",
       "Ground     1491.142\n",
       "Other        11.482\n",
       "Air           1.059"
      ]
     },
     "execution_count": 22,
     "metadata": {},
     "output_type": "execute_result"
    }
   ],
   "source": [
    "print('Important routes for Wheat')\n",
    "lastfiveyears[lastfiveyears['product'] == 'wheat'].groupby('route')['tons'].agg(pd.Series.sum).to_frame().sort_values('tons', ascending = False)"
   ]
  },
  {
   "cell_type": "markdown",
   "metadata": {},
   "source": [
    "Não há diferença entre as rotas mais importantes para os produtos. Rota mais utilizada, considerando a quantidade em toneladas, é por por via marítima."
   ]
  },
  {
   "cell_type": "markdown",
   "metadata": {},
   "source": [
    "# Which countries have been the most important trade partners for Brazil in terms of ‘corn’ and ‘sugar’ in the last 3 years?"
   ]
  },
  {
   "cell_type": "code",
   "execution_count": 23,
   "metadata": {},
   "outputs": [],
   "source": [
    "lastthreeyears = onlyexport.copy()\n",
    "lastthreeyears = lastthreeyears.loc[lastthreeyears['year'] >= 2017]"
   ]
  },
  {
   "cell_type": "code",
   "execution_count": 24,
   "metadata": {
    "scrolled": true
   },
   "outputs": [
    {
     "data": {
      "text/html": [
       "<div>\n",
       "<style scoped>\n",
       "    .dataframe tbody tr th:only-of-type {\n",
       "        vertical-align: middle;\n",
       "    }\n",
       "\n",
       "    .dataframe tbody tr th {\n",
       "        vertical-align: top;\n",
       "    }\n",
       "\n",
       "    .dataframe thead th {\n",
       "        text-align: right;\n",
       "    }\n",
       "</style>\n",
       "<table border=\"1\" class=\"dataframe\">\n",
       "  <thead>\n",
       "    <tr style=\"text-align: right;\">\n",
       "      <th></th>\n",
       "      <th>usd</th>\n",
       "    </tr>\n",
       "    <tr>\n",
       "      <th>country</th>\n",
       "      <th></th>\n",
       "    </tr>\n",
       "  </thead>\n",
       "  <tbody>\n",
       "    <tr>\n",
       "      <th>China</th>\n",
       "      <td>6.768644e+10</td>\n",
       "    </tr>\n",
       "    <tr>\n",
       "      <th>Iran</th>\n",
       "      <td>5.487578e+09</td>\n",
       "    </tr>\n",
       "    <tr>\n",
       "      <th>Netherlands</th>\n",
       "      <td>5.164750e+09</td>\n",
       "    </tr>\n",
       "    <tr>\n",
       "      <th>Spain</th>\n",
       "      <td>4.233952e+09</td>\n",
       "    </tr>\n",
       "    <tr>\n",
       "      <th>Thailand</th>\n",
       "      <td>3.877906e+09</td>\n",
       "    </tr>\n",
       "    <tr>\n",
       "      <th>South Korea</th>\n",
       "      <td>3.183690e+09</td>\n",
       "    </tr>\n",
       "    <tr>\n",
       "      <th>Bangladesh</th>\n",
       "      <td>3.098313e+09</td>\n",
       "    </tr>\n",
       "    <tr>\n",
       "      <th>Vietnam</th>\n",
       "      <td>2.898982e+09</td>\n",
       "    </tr>\n",
       "    <tr>\n",
       "      <th>India</th>\n",
       "      <td>2.875862e+09</td>\n",
       "    </tr>\n",
       "    <tr>\n",
       "      <th>Algeria</th>\n",
       "      <td>2.700040e+09</td>\n",
       "    </tr>\n",
       "  </tbody>\n",
       "</table>\n",
       "</div>"
      ],
      "text/plain": [
       "                      usd\n",
       "country                  \n",
       "China        6.768644e+10\n",
       "Iran         5.487578e+09\n",
       "Netherlands  5.164750e+09\n",
       "Spain        4.233952e+09\n",
       "Thailand     3.877906e+09\n",
       "South Korea  3.183690e+09\n",
       "Bangladesh   3.098313e+09\n",
       "Vietnam      2.898982e+09\n",
       "India        2.875862e+09\n",
       "Algeria      2.700040e+09"
      ]
     },
     "execution_count": 24,
     "metadata": {},
     "output_type": "execute_result"
    }
   ],
   "source": [
    "lastthreeyears.groupby('country')['usd'].agg(pd.Series.sum).to_frame().sort_values('usd', ascending = False)[:10]"
   ]
  },
  {
   "cell_type": "code",
   "execution_count": 25,
   "metadata": {},
   "outputs": [
    {
     "data": {
      "image/png": "[encoded data removed]",
      "text/plain": [
       "<Figure size 1080x360 with 1 Axes>"
      ]
     },
     "metadata": {
      "needs_background": "light"
     },
     "output_type": "display_data"
    }
   ],
   "source": [
    "fig = plt.figure(figsize=(15.0, 5.0))\n",
    "\n",
    "ordem4 = lastthreeyears.groupby('country')['usd'].agg(pd.Series.sum).to_frame().sort_values('usd', ascending = True).reset_index()[-10:]\n",
    "chart = sns.barplot(x='country', y='usd', data=ordem4, ci = None, palette=\"Greys\", order=ordem4['country'])\n",
    "chart.set_xticklabels(chart.get_xticklabels(), rotation=90)\n",
    "plt.title('The most important trade partners in terms of corn and sugar');"
   ]
  },
  {
   "cell_type": "markdown",
   "metadata": {},
   "source": [
    "# For each of the products in the dataset, show the 5 most important states in terms of exports?"
   ]
  },
  {
   "cell_type": "code",
   "execution_count": 26,
   "metadata": {},
   "outputs": [
    {
     "name": "stdout",
     "output_type": "stream",
     "text": [
      "Corn\n"
     ]
    },
    {
     "data": {
      "text/html": [
       "<div>\n",
       "<style scoped>\n",
       "    .dataframe tbody tr th:only-of-type {\n",
       "        vertical-align: middle;\n",
       "    }\n",
       "\n",
       "    .dataframe tbody tr th {\n",
       "        vertical-align: top;\n",
       "    }\n",
       "\n",
       "    .dataframe thead th {\n",
       "        text-align: right;\n",
       "    }\n",
       "</style>\n",
       "<table border=\"1\" class=\"dataframe\">\n",
       "  <thead>\n",
       "    <tr style=\"text-align: right;\">\n",
       "      <th></th>\n",
       "      <th>usd</th>\n",
       "    </tr>\n",
       "    <tr>\n",
       "      <th>state</th>\n",
       "      <th></th>\n",
       "    </tr>\n",
       "  </thead>\n",
       "  <tbody>\n",
       "    <tr>\n",
       "      <th>MT</th>\n",
       "      <td>2.837552e+10</td>\n",
       "    </tr>\n",
       "    <tr>\n",
       "      <th>PR</th>\n",
       "      <td>9.160512e+09</td>\n",
       "    </tr>\n",
       "    <tr>\n",
       "      <th>GO</th>\n",
       "      <td>5.706991e+09</td>\n",
       "    </tr>\n",
       "    <tr>\n",
       "      <th>MS</th>\n",
       "      <td>3.405431e+09</td>\n",
       "    </tr>\n",
       "    <tr>\n",
       "      <th>SP</th>\n",
       "      <td>1.511122e+09</td>\n",
       "    </tr>\n",
       "  </tbody>\n",
       "</table>\n",
       "</div>"
      ],
      "text/plain": [
       "                usd\n",
       "state              \n",
       "MT     2.837552e+10\n",
       "PR     9.160512e+09\n",
       "GO     5.706991e+09\n",
       "MS     3.405431e+09\n",
       "SP     1.511122e+09"
      ]
     },
     "execution_count": 26,
     "metadata": {},
     "output_type": "execute_result"
    }
   ],
   "source": [
    "print('Corn')\n",
    "onlyexport[onlyexport['product'] == 'corn'].groupby('state')['usd'].agg(pd.Series.sum).to_frame().sort_values('usd', ascending = False)[:5]"
   ]
  },
  {
   "cell_type": "code",
   "execution_count": 27,
   "metadata": {},
   "outputs": [
    {
     "name": "stdout",
     "output_type": "stream",
     "text": [
      "Soybean Meal\n"
     ]
    },
    {
     "data": {
      "text/html": [
       "<div>\n",
       "<style scoped>\n",
       "    .dataframe tbody tr th:only-of-type {\n",
       "        vertical-align: middle;\n",
       "    }\n",
       "\n",
       "    .dataframe tbody tr th {\n",
       "        vertical-align: top;\n",
       "    }\n",
       "\n",
       "    .dataframe thead th {\n",
       "        text-align: right;\n",
       "    }\n",
       "</style>\n",
       "<table border=\"1\" class=\"dataframe\">\n",
       "  <thead>\n",
       "    <tr style=\"text-align: right;\">\n",
       "      <th></th>\n",
       "      <th>usd</th>\n",
       "    </tr>\n",
       "    <tr>\n",
       "      <th>state</th>\n",
       "      <th></th>\n",
       "    </tr>\n",
       "  </thead>\n",
       "  <tbody>\n",
       "    <tr>\n",
       "      <th>MT</th>\n",
       "      <td>2.799454e+10</td>\n",
       "    </tr>\n",
       "    <tr>\n",
       "      <th>PR</th>\n",
       "      <td>2.464996e+10</td>\n",
       "    </tr>\n",
       "    <tr>\n",
       "      <th>RS</th>\n",
       "      <td>1.500739e+10</td>\n",
       "    </tr>\n",
       "    <tr>\n",
       "      <th>GO</th>\n",
       "      <td>9.421431e+09</td>\n",
       "    </tr>\n",
       "    <tr>\n",
       "      <th>BA</th>\n",
       "      <td>5.439266e+09</td>\n",
       "    </tr>\n",
       "  </tbody>\n",
       "</table>\n",
       "</div>"
      ],
      "text/plain": [
       "                usd\n",
       "state              \n",
       "MT     2.799454e+10\n",
       "PR     2.464996e+10\n",
       "RS     1.500739e+10\n",
       "GO     9.421431e+09\n",
       "BA     5.439266e+09"
      ]
     },
     "execution_count": 27,
     "metadata": {},
     "output_type": "execute_result"
    }
   ],
   "source": [
    "print('Soybean Meal')\n",
    "onlyexport[onlyexport['product'] == 'soybean_meal'].groupby('state')['usd'].agg(pd.Series.sum).to_frame().sort_values('usd', ascending = False)[:5]"
   ]
  },
  {
   "cell_type": "code",
   "execution_count": 28,
   "metadata": {},
   "outputs": [
    {
     "name": "stdout",
     "output_type": "stream",
     "text": [
      "Soybean Oil\n"
     ]
    },
    {
     "data": {
      "text/html": [
       "<div>\n",
       "<style scoped>\n",
       "    .dataframe tbody tr th:only-of-type {\n",
       "        vertical-align: middle;\n",
       "    }\n",
       "\n",
       "    .dataframe tbody tr th {\n",
       "        vertical-align: top;\n",
       "    }\n",
       "\n",
       "    .dataframe thead th {\n",
       "        text-align: right;\n",
       "    }\n",
       "</style>\n",
       "<table border=\"1\" class=\"dataframe\">\n",
       "  <thead>\n",
       "    <tr style=\"text-align: right;\">\n",
       "      <th></th>\n",
       "      <th>usd</th>\n",
       "    </tr>\n",
       "    <tr>\n",
       "      <th>state</th>\n",
       "      <th></th>\n",
       "    </tr>\n",
       "  </thead>\n",
       "  <tbody>\n",
       "    <tr>\n",
       "      <th>PR</th>\n",
       "      <td>1.110910e+10</td>\n",
       "    </tr>\n",
       "    <tr>\n",
       "      <th>RS</th>\n",
       "      <td>6.281965e+09</td>\n",
       "    </tr>\n",
       "    <tr>\n",
       "      <th>MT</th>\n",
       "      <td>5.434514e+09</td>\n",
       "    </tr>\n",
       "    <tr>\n",
       "      <th>SC</th>\n",
       "      <td>1.238811e+09</td>\n",
       "    </tr>\n",
       "    <tr>\n",
       "      <th>GO</th>\n",
       "      <td>8.559207e+08</td>\n",
       "    </tr>\n",
       "  </tbody>\n",
       "</table>\n",
       "</div>"
      ],
      "text/plain": [
       "                usd\n",
       "state              \n",
       "PR     1.110910e+10\n",
       "RS     6.281965e+09\n",
       "MT     5.434514e+09\n",
       "SC     1.238811e+09\n",
       "GO     8.559207e+08"
      ]
     },
     "execution_count": 28,
     "metadata": {},
     "output_type": "execute_result"
    }
   ],
   "source": [
    "print('Soybean Oil')\n",
    "onlyexport[onlyexport['product'] == 'soybean_oil'].groupby('state')['usd'].agg(pd.Series.sum).to_frame().sort_values('usd', ascending = False)[:5]"
   ]
  },
  {
   "cell_type": "code",
   "execution_count": 29,
   "metadata": {},
   "outputs": [
    {
     "name": "stdout",
     "output_type": "stream",
     "text": [
      "Soybeans\n"
     ]
    },
    {
     "data": {
      "text/html": [
       "<div>\n",
       "<style scoped>\n",
       "    .dataframe tbody tr th:only-of-type {\n",
       "        vertical-align: middle;\n",
       "    }\n",
       "\n",
       "    .dataframe tbody tr th {\n",
       "        vertical-align: top;\n",
       "    }\n",
       "\n",
       "    .dataframe thead th {\n",
       "        text-align: right;\n",
       "    }\n",
       "</style>\n",
       "<table border=\"1\" class=\"dataframe\">\n",
       "  <thead>\n",
       "    <tr style=\"text-align: right;\">\n",
       "      <th></th>\n",
       "      <th>usd</th>\n",
       "    </tr>\n",
       "    <tr>\n",
       "      <th>state</th>\n",
       "      <th></th>\n",
       "    </tr>\n",
       "  </thead>\n",
       "  <tbody>\n",
       "    <tr>\n",
       "      <th>MT</th>\n",
       "      <td>8.050678e+10</td>\n",
       "    </tr>\n",
       "    <tr>\n",
       "      <th>PR</th>\n",
       "      <td>4.848410e+10</td>\n",
       "    </tr>\n",
       "    <tr>\n",
       "      <th>RS</th>\n",
       "      <td>4.613673e+10</td>\n",
       "    </tr>\n",
       "    <tr>\n",
       "      <th>GO</th>\n",
       "      <td>2.126883e+10</td>\n",
       "    </tr>\n",
       "    <tr>\n",
       "      <th>MS</th>\n",
       "      <td>1.328482e+10</td>\n",
       "    </tr>\n",
       "  </tbody>\n",
       "</table>\n",
       "</div>"
      ],
      "text/plain": [
       "                usd\n",
       "state              \n",
       "MT     8.050678e+10\n",
       "PR     4.848410e+10\n",
       "RS     4.613673e+10\n",
       "GO     2.126883e+10\n",
       "MS     1.328482e+10"
      ]
     },
     "execution_count": 29,
     "metadata": {},
     "output_type": "execute_result"
    }
   ],
   "source": [
    "print('Soybeans')\n",
    "onlyexport[onlyexport['product'] == 'soybeans'].groupby('state')['usd'].agg(pd.Series.sum).to_frame().sort_values('usd', ascending = False)[:5]"
   ]
  },
  {
   "cell_type": "code",
   "execution_count": 30,
   "metadata": {},
   "outputs": [
    {
     "name": "stdout",
     "output_type": "stream",
     "text": [
      "Sugar\n"
     ]
    },
    {
     "data": {
      "text/html": [
       "<div>\n",
       "<style scoped>\n",
       "    .dataframe tbody tr th:only-of-type {\n",
       "        vertical-align: middle;\n",
       "    }\n",
       "\n",
       "    .dataframe tbody tr th {\n",
       "        vertical-align: top;\n",
       "    }\n",
       "\n",
       "    .dataframe thead th {\n",
       "        text-align: right;\n",
       "    }\n",
       "</style>\n",
       "<table border=\"1\" class=\"dataframe\">\n",
       "  <thead>\n",
       "    <tr style=\"text-align: right;\">\n",
       "      <th></th>\n",
       "      <th>usd</th>\n",
       "    </tr>\n",
       "    <tr>\n",
       "      <th>state</th>\n",
       "      <th></th>\n",
       "    </tr>\n",
       "  </thead>\n",
       "  <tbody>\n",
       "    <tr>\n",
       "      <th>SP</th>\n",
       "      <td>6.621186e+10</td>\n",
       "    </tr>\n",
       "    <tr>\n",
       "      <th>MG</th>\n",
       "      <td>8.559401e+09</td>\n",
       "    </tr>\n",
       "    <tr>\n",
       "      <th>PR</th>\n",
       "      <td>8.270779e+09</td>\n",
       "    </tr>\n",
       "    <tr>\n",
       "      <th>AL</th>\n",
       "      <td>4.826419e+09</td>\n",
       "    </tr>\n",
       "    <tr>\n",
       "      <th>MS</th>\n",
       "      <td>3.219035e+09</td>\n",
       "    </tr>\n",
       "  </tbody>\n",
       "</table>\n",
       "</div>"
      ],
      "text/plain": [
       "                usd\n",
       "state              \n",
       "SP     6.621186e+10\n",
       "MG     8.559401e+09\n",
       "PR     8.270779e+09\n",
       "AL     4.826419e+09\n",
       "MS     3.219035e+09"
      ]
     },
     "execution_count": 30,
     "metadata": {},
     "output_type": "execute_result"
    }
   ],
   "source": [
    "print('Sugar')\n",
    "onlyexport[onlyexport['product'] == 'sugar'].groupby('state')['usd'].agg(pd.Series.sum).to_frame().sort_values('usd', ascending = False)[:5]"
   ]
  },
  {
   "cell_type": "code",
   "execution_count": 31,
   "metadata": {},
   "outputs": [
    {
     "name": "stdout",
     "output_type": "stream",
     "text": [
      "Wheat\n"
     ]
    },
    {
     "data": {
      "text/html": [
       "<div>\n",
       "<style scoped>\n",
       "    .dataframe tbody tr th:only-of-type {\n",
       "        vertical-align: middle;\n",
       "    }\n",
       "\n",
       "    .dataframe tbody tr th {\n",
       "        vertical-align: top;\n",
       "    }\n",
       "\n",
       "    .dataframe thead th {\n",
       "        text-align: right;\n",
       "    }\n",
       "</style>\n",
       "<table border=\"1\" class=\"dataframe\">\n",
       "  <thead>\n",
       "    <tr style=\"text-align: right;\">\n",
       "      <th></th>\n",
       "      <th>usd</th>\n",
       "    </tr>\n",
       "    <tr>\n",
       "      <th>state</th>\n",
       "      <th></th>\n",
       "    </tr>\n",
       "  </thead>\n",
       "  <tbody>\n",
       "    <tr>\n",
       "      <th>RS</th>\n",
       "      <td>1.555925e+09</td>\n",
       "    </tr>\n",
       "    <tr>\n",
       "      <th>PR</th>\n",
       "      <td>1.839354e+08</td>\n",
       "    </tr>\n",
       "    <tr>\n",
       "      <th>SC</th>\n",
       "      <td>2.540009e+07</td>\n",
       "    </tr>\n",
       "    <tr>\n",
       "      <th>SP</th>\n",
       "      <td>2.267024e+06</td>\n",
       "    </tr>\n",
       "    <tr>\n",
       "      <th>MS</th>\n",
       "      <td>2.757330e+05</td>\n",
       "    </tr>\n",
       "  </tbody>\n",
       "</table>\n",
       "</div>"
      ],
      "text/plain": [
       "                usd\n",
       "state              \n",
       "RS     1.555925e+09\n",
       "PR     1.839354e+08\n",
       "SC     2.540009e+07\n",
       "SP     2.267024e+06\n",
       "MS     2.757330e+05"
      ]
     },
     "execution_count": 31,
     "metadata": {},
     "output_type": "execute_result"
    }
   ],
   "source": [
    "print('Wheat')\n",
    "onlyexport[onlyexport['product'] == 'wheat'].groupby('state')['usd'].agg(pd.Series.sum).to_frame().sort_values('usd', ascending = False)[:5]"
   ]
  },
  {
   "cell_type": "markdown",
   "metadata": {},
   "source": [
    "# Now, we ask you to show your modelling skills. Feel free to use any type of modelling approach, but bear in mind that the modelling approach depends on the nature of your data, and so different models yield different estimates and forecasts. To help you out in this task we also provide you with a dataset of possible covariates (.xlsx). They all come from public sources (IMF, World Bank) and are presented in index number format. Question: What should be the total brazilian soybeans, soybean_meal, and corn export forecasts, in tons, for the next 11 years (2020-2030)? We’re mostly interested in the annual forecast."
   ]
  },
  {
   "cell_type": "code",
   "execution_count": null,
   "metadata": {},
   "outputs": [],
   "source": []
  },
  {
   "cell_type": "code",
   "execution_count": null,
   "metadata": {},
   "outputs": [],
   "source": []
  },
  {
   "cell_type": "code",
   "execution_count": null,
   "metadata": {},
   "outputs": [],
   "source": []
  },
  {
   "cell_type": "code",
   "execution_count": null,
   "metadata": {},
   "outputs": [],
   "source": []
  },
  {
   "cell_type": "code",
   "execution_count": 32,
   "metadata": {},
   "outputs": [
    {
     "data": {
      "text/html": [
       "<div>\n",
       "<style scoped>\n",
       "    .dataframe tbody tr th:only-of-type {\n",
       "        vertical-align: middle;\n",
       "    }\n",
       "\n",
       "    .dataframe tbody tr th {\n",
       "        vertical-align: top;\n",
       "    }\n",
       "\n",
       "    .dataframe thead th {\n",
       "        text-align: right;\n",
       "    }\n",
       "</style>\n",
       "<table border=\"1\" class=\"dataframe\">\n",
       "  <thead>\n",
       "    <tr style=\"text-align: right;\">\n",
       "      <th></th>\n",
       "      <th>year</th>\n",
       "      <th>price_soybeans</th>\n",
       "      <th>price_corn</th>\n",
       "      <th>price_soybean_meal</th>\n",
       "      <th>gdp_china</th>\n",
       "      <th>gdp_iran</th>\n",
       "      <th>gpd_netherlands</th>\n",
       "      <th>gdp_spain</th>\n",
       "      <th>gdp_thailand</th>\n",
       "      <th>gdp_world</th>\n",
       "      <th>gdp_egypt</th>\n",
       "      <th>gdp_japan</th>\n",
       "      <th>gdp_vietnam</th>\n",
       "    </tr>\n",
       "  </thead>\n",
       "  <tbody>\n",
       "    <tr>\n",
       "      <th>0</th>\n",
       "      <td>1979</td>\n",
       "      <td>NaN</td>\n",
       "      <td>NaN</td>\n",
       "      <td>NaN</td>\n",
       "      <td>100.000000</td>\n",
       "      <td>100.000000</td>\n",
       "      <td>NaN</td>\n",
       "      <td>100.000000</td>\n",
       "      <td>100.000000</td>\n",
       "      <td>100.000000</td>\n",
       "      <td>100.000000</td>\n",
       "      <td>100.000000</td>\n",
       "      <td>100.000000</td>\n",
       "    </tr>\n",
       "    <tr>\n",
       "      <th>1</th>\n",
       "      <td>1980</td>\n",
       "      <td>100.000000</td>\n",
       "      <td>100.000000</td>\n",
       "      <td>100.000000</td>\n",
       "      <td>107.900000</td>\n",
       "      <td>81.200000</td>\n",
       "      <td>100.000000</td>\n",
       "      <td>101.200000</td>\n",
       "      <td>104.600000</td>\n",
       "      <td>102.100000</td>\n",
       "      <td>103.400000</td>\n",
       "      <td>103.200000</td>\n",
       "      <td>96.500000</td>\n",
       "    </tr>\n",
       "    <tr>\n",
       "      <th>2</th>\n",
       "      <td>1981</td>\n",
       "      <td>98.525508</td>\n",
       "      <td>103.888308</td>\n",
       "      <td>99.805440</td>\n",
       "      <td>113.402900</td>\n",
       "      <td>74.216800</td>\n",
       "      <td>99.500000</td>\n",
       "      <td>100.795200</td>\n",
       "      <td>110.771400</td>\n",
       "      <td>104.039900</td>\n",
       "      <td>105.674800</td>\n",
       "      <td>107.534400</td>\n",
       "      <td>102.097000</td>\n",
       "    </tr>\n",
       "    <tr>\n",
       "      <th>3</th>\n",
       "      <td>1982</td>\n",
       "      <td>83.406192</td>\n",
       "      <td>85.986430</td>\n",
       "      <td>86.596956</td>\n",
       "      <td>123.609161</td>\n",
       "      <td>83.939201</td>\n",
       "      <td>98.206500</td>\n",
       "      <td>102.004742</td>\n",
       "      <td>116.753056</td>\n",
       "      <td>104.664139</td>\n",
       "      <td>113.389060</td>\n",
       "      <td>111.083035</td>\n",
       "      <td>110.468954</td>\n",
       "    </tr>\n",
       "    <tr>\n",
       "      <th>4</th>\n",
       "      <td>1983</td>\n",
       "      <td>97.851743</td>\n",
       "      <td>108.168059</td>\n",
       "      <td>98.663318</td>\n",
       "      <td>136.958950</td>\n",
       "      <td>95.522811</td>\n",
       "      <td>99.974217</td>\n",
       "      <td>103.738823</td>\n",
       "      <td>123.291227</td>\n",
       "      <td>107.594735</td>\n",
       "      <td>123.480687</td>\n",
       "      <td>114.970941</td>\n",
       "      <td>118.312250</td>\n",
       "    </tr>\n",
       "  </tbody>\n",
       "</table>\n",
       "</div>"
      ],
      "text/plain": [
       "   year  price_soybeans  price_corn  price_soybean_meal   gdp_china  \\\n",
       "0  1979             NaN         NaN                 NaN  100.000000   \n",
       "1  1980      100.000000  100.000000          100.000000  107.900000   \n",
       "2  1981       98.525508  103.888308           99.805440  113.402900   \n",
       "3  1982       83.406192   85.986430           86.596956  123.609161   \n",
       "4  1983       97.851743  108.168059           98.663318  136.958950   \n",
       "\n",
       "     gdp_iran  gpd_netherlands   gdp_spain  gdp_thailand   gdp_world  \\\n",
       "0  100.000000              NaN  100.000000    100.000000  100.000000   \n",
       "1   81.200000       100.000000  101.200000    104.600000  102.100000   \n",
       "2   74.216800        99.500000  100.795200    110.771400  104.039900   \n",
       "3   83.939201        98.206500  102.004742    116.753056  104.664139   \n",
       "4   95.522811        99.974217  103.738823    123.291227  107.594735   \n",
       "\n",
       "    gdp_egypt   gdp_japan  gdp_vietnam  \n",
       "0  100.000000  100.000000   100.000000  \n",
       "1  103.400000  103.200000    96.500000  \n",
       "2  105.674800  107.534400   102.097000  \n",
       "3  113.389060  111.083035   110.468954  \n",
       "4  123.480687  114.970941   118.312250  "
      ]
     },
     "execution_count": 32,
     "metadata": {},
     "output_type": "execute_result"
    }
   ],
   "source": [
    "covariates = pd.read_excel('covariates.xlsx')\n",
    "covariates.head()"
   ]
  }
 ],
 "metadata": {
  "kernelspec": {
   "display_name": "Python 3",
   "language": "python",
   "name": "python3"
  },
  "language_info": {
   "codemirror_mode": {
    "name": "ipython",
    "version": 3
   },
   "file_extension": ".py",
   "mimetype": "text/x-python",
   "name": "python",
   "nbconvert_exporter": "python",
   "pygments_lexer": "ipython3",
   "version": "3.7.3"
  }
 },
 "nbformat": 4,
 "nbformat_minor": 2
}
